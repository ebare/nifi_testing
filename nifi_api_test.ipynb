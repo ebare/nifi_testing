{
 "cells": [
  {
   "cell_type": "code",
   "execution_count": 43,
   "metadata": {
    "collapsed": false
   },
   "outputs": [],
   "source": [
    "import json\n",
    "import requests"
   ]
  },
  {
   "cell_type": "code",
   "execution_count": 44,
   "metadata": {
    "collapsed": true
   },
   "outputs": [],
   "source": [
    "nifi_url = \"http://sandbox.hortonworks.com:9090/nifi-api\""
   ]
  },
  {
   "cell_type": "markdown",
   "metadata": {},
   "source": [
    "## get process group"
   ]
  },
  {
   "cell_type": "code",
   "execution_count": 122,
   "metadata": {
    "collapsed": false
   },
   "outputs": [
    {
     "data": {
      "text/plain": [
       "{u'activeRemotePortCount': 0,\n",
       " u'bulletins': [],\n",
       " u'component': {u'activeRemotePortCount': 0,\n",
       "  u'comments': u'',\n",
       "  u'disabledCount': 0,\n",
       "  u'id': u'2b3f0525-0158-1000-fe2d-3dddf435a35f',\n",
       "  u'inactiveRemotePortCount': 0,\n",
       "  u'inputPortCount': 0,\n",
       "  u'invalidCount': 0,\n",
       "  u'name': u'itg7198',\n",
       "  u'outputPortCount': 0,\n",
       "  u'parentGroupId': u'7c84501d-d10c-407c-b9f3-1d80e38fe36a',\n",
       "  u'position': {u'x': 296.0, u'y': 81.0},\n",
       "  u'runningCount': 0,\n",
       "  u'stoppedCount': 4},\n",
       " u'disabledCount': 0,\n",
       " u'id': u'2b3f0525-0158-1000-fe2d-3dddf435a35f',\n",
       " u'inactiveRemotePortCount': 0,\n",
       " u'inputPortCount': 0,\n",
       " u'invalidCount': 0,\n",
       " u'outputPortCount': 0,\n",
       " u'permissions': {u'canRead': True, u'canWrite': True},\n",
       " u'position': {u'x': 296.0, u'y': 81.0},\n",
       " u'revision': {u'clientId': u'2b3eb487-0158-1000-3705-3f5ce2641209',\n",
       "  u'version': 3},\n",
       " u'runningCount': 0,\n",
       " u'status': {u'aggregateSnapshot': {u'activeThreadCount': 0,\n",
       "   u'bytesIn': 0,\n",
       "   u'bytesOut': 0,\n",
       "   u'bytesQueued': 0,\n",
       "   u'bytesRead': 0,\n",
       "   u'bytesReceived': 0,\n",
       "   u'bytesSent': 0,\n",
       "   u'bytesTransferred': 0,\n",
       "   u'bytesWritten': 0,\n",
       "   u'flowFilesIn': 0,\n",
       "   u'flowFilesOut': 0,\n",
       "   u'flowFilesQueued': 0,\n",
       "   u'flowFilesReceived': 0,\n",
       "   u'flowFilesSent': 0,\n",
       "   u'flowFilesTransferred': 0,\n",
       "   u'id': u'2b3f0525-0158-1000-fe2d-3dddf435a35f',\n",
       "   u'input': u'0 (0 bytes)',\n",
       "   u'name': u'itg7198',\n",
       "   u'output': u'0 (0 bytes)',\n",
       "   u'queued': u'0 (0 bytes)',\n",
       "   u'queuedCount': u'0',\n",
       "   u'queuedSize': u'0 bytes',\n",
       "   u'read': u'0 bytes',\n",
       "   u'received': u'0 (0 bytes)',\n",
       "   u'sent': u'0 (0 bytes)',\n",
       "   u'transferred': u'0 (0 bytes)',\n",
       "   u'written': u'0 bytes'},\n",
       "  u'id': u'2b3f0525-0158-1000-fe2d-3dddf435a35f',\n",
       "  u'name': u'itg7198',\n",
       "  u'statsLastRefreshed': u'19:56:59 UTC'},\n",
       " u'stoppedCount': 4,\n",
       " u'uri': u'http://sandbox.hortonworks.com:9090/nifi-api/process-groups/2b3f0525-0158-1000-fe2d-3dddf435a35f'}"
      ]
     },
     "execution_count": 122,
     "metadata": {},
     "output_type": "execute_result"
    }
   ],
   "source": [
    "r = requests.get(nifi_url + '/process-groups/2b3f0525-0158-1000-fe2d-3dddf435a35f')\n",
    "dat = r.json()\n",
    "dat"
   ]
  },
  {
   "cell_type": "markdown",
   "metadata": {},
   "source": [
    "#### Get revision id for updating"
   ]
  },
  {
   "cell_type": "code",
   "execution_count": 120,
   "metadata": {
    "collapsed": false,
    "scrolled": true
   },
   "outputs": [
    {
     "name": "stdout",
     "output_type": "stream",
     "text": [
      "{u'version': 0}\n"
     ]
    }
   ],
   "source": [
    "r = requests.get(nifi_url + '/controller/config')\n",
    "revision = r.json().get('revision')\n",
    "print revision"
   ]
  },
  {
   "cell_type": "markdown",
   "metadata": {},
   "source": [
    "## update processor group"
   ]
  },
  {
   "cell_type": "code",
   "execution_count": 121,
   "metadata": {
    "collapsed": false
   },
   "outputs": [
    {
     "name": "stdout",
     "output_type": "stream",
     "text": [
      "Returned: 200\n"
     ]
    }
   ],
   "source": [
    "r = requests.put(nifi_url + '/process-groups/2b3f0525-0158-1000-fe2d-3dddf435a35f', json=dat)\n",
    "print('Returned: ' + str(r.status_code))"
   ]
  },
  {
   "cell_type": "code",
   "execution_count": null,
   "metadata": {
    "collapsed": true
   },
   "outputs": [],
   "source": []
  }
 ],
 "metadata": {
  "anaconda-cloud": {},
  "kernelspec": {
   "display_name": "Python [conda root]",
   "language": "python",
   "name": "conda-root-py"
  },
  "language_info": {
   "codemirror_mode": {
    "name": "ipython",
    "version": 2
   },
   "file_extension": ".py",
   "mimetype": "text/x-python",
   "name": "python",
   "nbconvert_exporter": "python",
   "pygments_lexer": "ipython2",
   "version": "2.7.12"
  }
 },
 "nbformat": 4,
 "nbformat_minor": 1
}
